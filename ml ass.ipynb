{
 "cells": [
  {
   "cell_type": "code",
   "execution_count": 13,
   "id": "5750828d-06f0-4ec3-90f2-f74c8998561e",
   "metadata": {},
   "outputs": [
    {
     "name": "stdout",
     "output_type": "stream",
     "text": [
      "[10.0, 30.0, 30.0, 30.0, 50.0]\n"
     ]
    }
   ],
   "source": [
    "import numpy as np #1st Question\n",
    "numbers = np.array([10, None, 30, None, 50], dtype=float)\n",
    "mean_value = np.nanmean(numbers)\n",
    "numbers = np.where(np.isnan(numbers), mean_value, numbers)\n",
    "print(numbers.tolist())\n"
   ]
  },
  {
   "cell_type": "code",
   "execution_count": 18,
   "id": "7eabd1c8-ca13-468b-888c-7400e76f808d",
   "metadata": {},
   "outputs": [
    {
     "name": "stdin",
     "output_type": "stream",
     "text": [
      "Enter numbers separated by spaces:  10\n"
     ]
    },
    {
     "name": "stdout",
     "output_type": "stream",
     "text": [
      "[10.0]\n"
     ]
    }
   ],
   "source": [
    "import numpy as np  #1st Question --User Input\n",
    "numbers = input(\"Enter numbers: \")\n",
    "numbers = [float(x) if x.lower() != 'none' else None for x in numbers.split()]\n",
    "numbers = np.array(numbers, dtype=float)\n",
    "mean_value = np.nanmean(numbers)\n",
    "numbers = np.where(np.isnan(numbers), mean_value, numbers)\n",
    "print(numbers.tolist())\n"
   ]
  },
  {
   "cell_type": "code",
   "execution_count": 6,
   "id": "c244de4a-fa25-4836-9570-f3d870a46398",
   "metadata": {},
   "outputs": [
    {
     "name": "stdout",
     "output_type": "stream",
     "text": [
      "[0.0, 0.25, 0.5, 0.75, 1.0]\n"
     ]
    }
   ],
   "source": [
    "def min_max_scaling(numbers):  #2nd Question\n",
    "    min_val = min(numbers)\n",
    "    max_val = max(numbers)\n",
    "    return [(x - min_val) / (max_val - min_val) for x in numbers]\n",
    "numbers = [20, 40, 60, 80, 100]\n",
    "scaled_numbers = min_max_scaling(numbers)\n",
    "print(scaled_numbers)\n"
   ]
  },
  {
   "cell_type": "code",
   "execution_count": 8,
   "id": "9ba16802-ea22-42d9-93d9-d1635a0dc1aa",
   "metadata": {},
   "outputs": [
    {
     "name": "stdin",
     "output_type": "stream",
     "text": [
      "Enter numbers separated by spaces:  20 40 60 80 100\n"
     ]
    },
    {
     "name": "stdout",
     "output_type": "stream",
     "text": [
      "[0.0, 0.25, 0.5, 0.75, 1.0]\n"
     ]
    }
   ],
   "source": [
    "def min_max_scaling(numbers):  #2nd Question--User Input\n",
    "    min_val = min(numbers)\n",
    "    max_val = max(numbers)\n",
    "    return [(x - min_val) / (max_val - min_val) for x in numbers]\n",
    "numbers = list(map(float, input(\"Enter numbers: \").split()))\n",
    "scaled_numbers = min_max_scaling(numbers)\n",
    "print(scaled_numbers)\n"
   ]
  },
  {
   "cell_type": "code",
   "execution_count": 9,
   "id": "7a4353a1-104b-4f86-90ac-a95cb6089d93",
   "metadata": {},
   "outputs": [
    {
     "name": "stdout",
     "output_type": "stream",
     "text": [
      "[0, 1, 0, 1]\n"
     ]
    }
   ],
   "source": [
    "def binarize(numbers, threshold):  #3rd Question\n",
    "    return [1 if x >= threshold else 0 for x in numbers]\n",
    "numbers = [1.5, 2.3, 0.8, 3.0]\n",
    "threshold = 2.0\n",
    "binarized_numbers = binarize(numbers, threshold)\n",
    "print(binarized_numbers)\n"
   ]
  },
  {
   "cell_type": "code",
   "execution_count": 22,
   "id": "2bf73242-5a94-4031-ae71-a8498ed2360e",
   "metadata": {},
   "outputs": [
    {
     "name": "stdin",
     "output_type": "stream",
     "text": [
      "Enter numbers:  1.5 2.3 0.8 3.0\n",
      "Enter the threshold:  2.0\n"
     ]
    },
    {
     "name": "stdout",
     "output_type": "stream",
     "text": [
      "[0, 1, 0, 1]\n"
     ]
    }
   ],
   "source": [
    "def binarize(numbers, threshold):   #3rd Question--User Input\n",
    "    return [1 if x >= threshold else 0 for x in numbers]\n",
    "numbers = list(map(float, input(\"Enter numbers: \").split()))\n",
    "threshold = float(input(\"Enter the threshold: \"))\n",
    "binarized_numbers = binarize(numbers, threshold)\n",
    "print(binarized_numbers)\n"
   ]
  },
  {
   "cell_type": "code",
   "execution_count": 15,
   "id": "499b4330-fa09-4475-98b4-9ec58bae6e5d",
   "metadata": {},
   "outputs": [
    {
     "name": "stdout",
     "output_type": "stream",
     "text": [
      "[5, 7, 9]\n"
     ]
    }
   ],
   "source": [
    "def f(x):   #4th Question\n",
    "    return 2 * x + 3\n",
    "def approximate(inputs):\n",
    "    return [f(x) for x in inputs]\n",
    "inputs = [1, 2, 3]\n",
    "outputs = approximate(inputs)\n",
    "print(outputs)\n"
   ]
  },
  {
   "cell_type": "code",
   "execution_count": 21,
   "id": "9e781af3-0ec5-4a46-b947-c71a4eb78cac",
   "metadata": {},
   "outputs": [
    {
     "name": "stdin",
     "output_type": "stream",
     "text": [
      "Enter numbers:  1 2 3\n"
     ]
    },
    {
     "name": "stdout",
     "output_type": "stream",
     "text": [
      "[5, 7, 9]\n"
     ]
    }
   ],
   "source": [
    "def f(x):  #4th Question--User Input\n",
    "    return 2 * x + 3\n",
    "def approximate(inputs):\n",
    "    return [f(x) for x in inputs]\n",
    "inputs = list(map(int, input(\"Enter numbers: \").split()))\n",
    "outputs = approximate(inputs)\n",
    "print(outputs)\n"
   ]
  },
  {
   "cell_type": "code",
   "execution_count": 19,
   "id": "1a04aa9f-85d6-4d2c-a86f-d2fd7a5ec95f",
   "metadata": {},
   "outputs": [
    {
     "name": "stdout",
     "output_type": "stream",
     "text": [
      "[-1.3416407864998738, -0.4472135954999579, 0.4472135954999579, 1.3416407864998738]\n"
     ]
    }
   ],
   "source": [
    "import math #5th Question\n",
    "def standardize(numbers):\n",
    "    mean = sum(numbers) / len(numbers)\n",
    "    stdev = math.sqrt(sum((x - mean) ** 2 for x in numbers) / len(numbers))\n",
    "    return [(x - mean) / stdev for x in numbers]\n",
    "inputs = [10, 20, 30, 40]\n",
    "standardized_numbers = standardize(inputs)\n",
    "print(standardized_numbers)\n"
   ]
  },
  {
   "cell_type": "code",
   "execution_count": 20,
   "id": "c05fd6ae-6a85-41b2-b771-014d177efc44",
   "metadata": {},
   "outputs": [
    {
     "name": "stdin",
     "output_type": "stream",
     "text": [
      "Enter numbers separated by spaces:  10 20 30 40\n"
     ]
    },
    {
     "name": "stdout",
     "output_type": "stream",
     "text": [
      "Standardized numbers: [-1.3416407864998738, -0.4472135954999579, 0.4472135954999579, 1.3416407864998738]\n"
     ]
    }
   ],
   "source": [
    "import math #5th Question--User Input\n",
    "def standardize(numbers):\n",
    "    mean = sum(numbers) / len(numbers)\n",
    "    stdev = math.sqrt(sum((x - mean) ** 2 for x in numbers) / len(numbers))\n",
    "    return [(x - mean) / stdev for x in numbers]\n",
    "user_input = input(\"Enter numbers: \")\n",
    "inputs = list(map(int, user_input.split()))\n",
    "standardized_numbers = standardize(inputs)\n",
    "print(f\"Standardized numbers: {standardized_numbers}\")\n",
    "\n"
   ]
  },
  {
   "cell_type": "code",
   "execution_count": 23,
   "id": "0d56d085-594a-4893-ba0e-8c5d14a6c9df",
   "metadata": {},
   "outputs": [
    {
     "name": "stdout",
     "output_type": "stream",
     "text": [
      "{'A': [1, 3, 5], 'B': [2, 4]}\n"
     ]
    }
   ],
   "source": [
    "from collections import defaultdict #6th Question\n",
    "data = [1, 2, 3, 4, 5]\n",
    "labels = [\"A\", \"B\", \"A\", \"B\", \"A\"]\n",
    "concept_representation = defaultdict(list)\n",
    "for point, label in zip(data, labels):\n",
    "    concept_representation[label].append(point)\n",
    "concept_representation = dict(concept_representation)\n",
    "print(concept_representation)\n"
   ]
  },
  {
   "cell_type": "code",
   "execution_count": 25,
   "id": "f330c4ce-22fb-4638-9f71-0e51abe2f4a4",
   "metadata": {},
   "outputs": [
    {
     "name": "stdin",
     "output_type": "stream",
     "text": [
      "Enter data points separated by spaces:  1 2 3 4 5\n",
      "Enter labels corresponding to each data point:  A B C D E\n"
     ]
    },
    {
     "name": "stdout",
     "output_type": "stream",
     "text": [
      "{'A': [1], 'B': [2], 'C': [3], 'D': [4], 'E': [5]}\n"
     ]
    }
   ],
   "source": [
    "from collections import defaultdict #6th Question--User Input\n",
    "user_data = input(\"Enter data points separated by spaces: \")\n",
    "user_labels = input(\"Enter labels corresponding to each data point: \")\n",
    "data = list(map(int, user_data.split()))\n",
    "labels = user_labels.split()\n",
    "concept_representation = defaultdict(list)\n",
    "for point, label in zip(data, labels):\n",
    "    concept_representation[label].append(point)\n",
    "concept_representation = dict(concept_representation)\n",
    "print(concept_representation)\n"
   ]
  },
  {
   "cell_type": "code",
   "execution_count": 26,
   "id": "b93db417-1f82-447e-8363-2bf5b45b2e90",
   "metadata": {},
   "outputs": [
    {
     "name": "stdout",
     "output_type": "stream",
     "text": [
      "Supervised Learning\n"
     ]
    }
   ],
   "source": [
    "def categorize_task(description): #7th Question\n",
    "    if \"predict\" in description.lower():\n",
    "        return \"Supervised Learning\"\n",
    "    else:\n",
    "        return \"Unsupervised Learning\"\n",
    "description = \"Predict the price of a house based on features like size, location, and age.\"\n",
    "category = categorize_task(description)\n",
    "print(category)\n"
   ]
  },
  {
   "cell_type": "code",
   "execution_count": 29,
   "id": "b11f9b94-1488-4946-9d7f-ac9d2e139294",
   "metadata": {},
   "outputs": [
    {
     "name": "stdin",
     "output_type": "stream",
     "text": [
      "Enter the machine learning task description:  0\n"
     ]
    },
    {
     "name": "stdout",
     "output_type": "stream",
     "text": [
      "Unsupervised Learning\n"
     ]
    }
   ],
   "source": [
    "def categorize_task(description): #7th Question--User Input\n",
    "    if \"predict\" in description.lower():\n",
    "        return \"Supervised Learning\"\n",
    "    else:\n",
    "        return \"Unsupervised Learning\"\n",
    "description = input(\"Enter the machine learning task description: \")\n",
    "category = categorize_task(description)\n",
    "print(category)\n"
   ]
  },
  {
   "cell_type": "code",
   "execution_count": 30,
   "id": "51d3a024-7f81-482f-98e4-4ffe9a0f4474",
   "metadata": {},
   "outputs": [
    {
     "name": "stdout",
     "output_type": "stream",
     "text": [
      "Unsupervised Learning\n"
     ]
    }
   ],
   "source": [
    "def categorize_task(description): #8th Question\n",
    "    if \"predict\" in description.lower():\n",
    "        return \"Supervised Learning\"\n",
    "    else:\n",
    "        return \"Unsupervised Learning\"\n",
    "description = \"Group customers based on their purchasing patterns.\"\n",
    "category = categorize_task(description)\n",
    "print(category)\n"
   ]
  },
  {
   "cell_type": "code",
   "execution_count": 31,
   "id": "5e00f68a-b3ed-4a52-a727-edd26f5df28c",
   "metadata": {},
   "outputs": [
    {
     "name": "stdin",
     "output_type": "stream",
     "text": [
      "Enter the machine learning task description:  1\n"
     ]
    },
    {
     "name": "stdout",
     "output_type": "stream",
     "text": [
      "Unsupervised Learning\n"
     ]
    }
   ],
   "source": [
    "def categorize_task(description):  #8th Question--User Input\n",
    "    if \"predict\" in description.lower():\n",
    "        return \"Supervised Learning\"\n",
    "    else:\n",
    "        return \"Unsupervised Learning\"\n",
    "description = input(\"Enter the machine learning task description: \")\n",
    "category = categorize_task(description)\n",
    "print(category)\n"
   ]
  },
  {
   "cell_type": "code",
   "execution_count": 33,
   "id": "887ace44-0426-4a4a-9503-48474957af62",
   "metadata": {},
   "outputs": [
    {
     "name": "stdout",
     "output_type": "stream",
     "text": [
      "5\n"
     ]
    }
   ],
   "source": [
    "def predict_y(m, c, x): #9th Question\n",
    "    return m * x + c\n",
    "m = 1\n",
    "c = 2\n",
    "x = 3\n",
    "y = predict_y(m, c, x)\n",
    "print(y)"
   ]
  },
  {
   "cell_type": "code",
   "execution_count": 34,
   "id": "4e75c97e-80a1-4d1d-8c04-65edc7140222",
   "metadata": {},
   "outputs": [
    {
     "name": "stdin",
     "output_type": "stream",
     "text": [
      "Enter the slope (m):  1\n",
      "Enter the y-intercept (c):  2\n",
      "Enter the input value (x):  3\n"
     ]
    },
    {
     "name": "stdout",
     "output_type": "stream",
     "text": [
      "5.0\n"
     ]
    }
   ],
   "source": [
    "def predict_y(m, c, x): #9th Question--User Input\n",
    "    return m * x + c\n",
    "m = float(input(\"Enter the slope (m): \"))\n",
    "c = float(input(\"Enter the y-intercept (c): \"))\n",
    "x = float(input(\"Enter the input value (x): \"))\n",
    "y = predict_y(m, c, x)\n",
    "print(y)\n"
   ]
  },
  {
   "cell_type": "code",
   "execution_count": 35,
   "id": "78f1d4af-724c-402f-8920-15a82a6fd73d",
   "metadata": {},
   "outputs": [
    {
     "name": "stdout",
     "output_type": "stream",
     "text": [
      "[1, 2, 3, 4, 8]\n"
     ]
    }
   ],
   "source": [
    "def remove_duplicates_and_sort(data): #10th Question\n",
    "    return sorted(set(data))\n",
    "data = [4, 2, 2, 8, 3, 3, 1]\n",
    "result = remove_duplicates_and_sort(data)\n",
    "print(result)\n"
   ]
  },
  {
   "cell_type": "code",
   "execution_count": 36,
   "id": "8c4ffab8-1eec-4083-aca4-e1cc6ff5f692",
   "metadata": {},
   "outputs": [
    {
     "name": "stdin",
     "output_type": "stream",
     "text": [
      "Enter numbers separated by spaces:  4 2 2 8 3 3 1\n"
     ]
    },
    {
     "name": "stdout",
     "output_type": "stream",
     "text": [
      "[1, 2, 3, 4, 8]\n"
     ]
    }
   ],
   "source": [
    "def remove_duplicates_and_sort(data): #10th Question--User Input\n",
    "    return sorted(set(data))\n",
    "user_input = input(\"Enter numbers separated by spaces: \")\n",
    "data = list(map(int, user_input.split()))\n",
    "result = remove_duplicates_and_sort(data)\n",
    "print(result)\n"
   ]
  },
  {
   "cell_type": "code",
   "execution_count": 37,
   "id": "7a2cde0b-a818-4cee-b25c-b47b91bac970",
   "metadata": {},
   "outputs": [
    {
     "name": "stdout",
     "output_type": "stream",
     "text": [
      "0.5\n"
     ]
    }
   ],
   "source": [
    "import pandas as pd #CASE-STUDY\n",
    "from sklearn.model_selection import train_test_split\n",
    "from sklearn.impute import SimpleImputer\n",
    "from sklearn.preprocessing import StandardScaler, OneHotEncoder\n",
    "from sklearn.compose import ColumnTransformer\n",
    "from sklearn.pipeline import Pipeline\n",
    "from sklearn.ensemble import RandomForestClassifier\n",
    "data = pd.DataFrame({\n",
    "    'Income': [50000, 60000, 55000, 45000, 70000],\n",
    "    'Loan_Amount': [100000, 150000, 120000, 90000, 180000],\n",
    "    'Credit_History': [1, 1, 0, 1, 0],\n",
    "    'Gender': ['Male', 'Female', 'Female', 'Male', 'Female'],\n",
    "    'Marital_Status': ['Single', 'Married', 'Married', 'Single', 'Married'],\n",
    "    'Education': ['Graduate', 'Non-Graduate', 'Graduate', 'Non-Graduate', 'Graduate'],\n",
    "    'Loan_Status': [1, 0, 1, 0, 1]\n",
    "})\n",
    "X = data.drop('Loan_Status', axis=1) \n",
    "y = data['Loan_Status'] \n",
    "numerical_features = ['Income', 'Loan_Amount', 'Credit_History']\n",
    "categorical_features = ['Gender', 'Marital_Status', 'Education']\n",
    "numerical_transformer = Pipeline(steps=[\n",
    "    ('imputer', SimpleImputer(strategy='mean')),\n",
    "    ('scaler', StandardScaler())\n",
    "])\n",
    "categorical_transformer = Pipeline(steps=[\n",
    "    ('imputer', SimpleImputer(strategy='most_frequent')),\n",
    "    ('onehot', OneHotEncoder(handle_unknown='ignore'))\n",
    "])\n",
    "preprocessor = ColumnTransformer(\n",
    "    transformers=[\n",
    "        ('num', numerical_transformer, numerical_features),\n",
    "        ('cat', categorical_transformer, categorical_features)\n",
    "    ]\n",
    ")\n",
    "model = Pipeline(steps=[\n",
    "    ('preprocessor', preprocessor),\n",
    "    ('classifier', RandomForestClassifier())\n",
    "])\n",
    "X_train, X_test, y_train, y_test = train_test_split(X, y, test_size=0.3, random_state=42)\n",
    "model.fit(X_train, y_train)\n",
    "accuracy = model.score(X_test, y_test)\n",
    "print(accuracy)"
   ]
  },
  {
   "cell_type": "code",
   "execution_count": 39,
   "id": "119e1d8f-cee3-477e-827a-dd55aaed66bc",
   "metadata": {},
   "outputs": [
    {
     "name": "stdout",
     "output_type": "stream",
     "text": [
      "Model accuracy: 0.5\n"
     ]
    },
    {
     "name": "stdin",
     "output_type": "stream",
     "text": [
      "Enter Income:  10000000\n",
      "Enter Loan Amount:  1000000\n",
      "Enter Credit History (1 for good, 0 for bad):  1\n",
      "Enter Gender (Male/Female):  Male\n",
      "Enter Marital Status (Single/Married):  Single\n",
      "Enter Education Level (Graduate/Non-Graduate):  Graduate\n"
     ]
    },
    {
     "name": "stdout",
     "output_type": "stream",
     "text": [
      "Loan Approval Prediction (1: Approved, 0: Rejected): [1]\n"
     ]
    }
   ],
   "source": [
    "import pandas as pd #CASE-STUDY(USER INPUT)\n",
    "from sklearn.model_selection import train_test_split\n",
    "from sklearn.impute import SimpleImputer\n",
    "from sklearn.preprocessing import StandardScaler, OneHotEncoder\n",
    "from sklearn.compose import ColumnTransformer\n",
    "from sklearn.pipeline import Pipeline\n",
    "from sklearn.ensemble import RandomForestClassifier\n",
    "def input_data():\n",
    "    income = float(input(\"Enter Income: \"))\n",
    "    loan_amount = float(input(\"Enter Loan Amount: \"))\n",
    "    credit_history = int(input(\"Enter Credit History (1 for good, 0 for bad): \"))\n",
    "    gender = input(\"Enter Gender (Male/Female): \")\n",
    "    marital_status = input(\"Enter Marital Status (Single/Married): \")\n",
    "    education = input(\"Enter Education Level (Graduate/Non-Graduate): \")\n",
    "    \n",
    "    data = pd.DataFrame({\n",
    "        'Income': [income],\n",
    "        'Loan_Amount': [loan_amount],\n",
    "        'Credit_History': [credit_history],\n",
    "        'Gender': [gender],\n",
    "        'Marital_Status': [marital_status],\n",
    "        'Education': [education]\n",
    "    })\n",
    "    return data\n",
    "data = pd.DataFrame({\n",
    "    'Income': [50000, 60000, 55000, 45000, 70000],\n",
    "    'Loan_Amount': [100000, 150000, 120000, 90000, 180000],\n",
    "    'Credit_History': [1, 1, 0, 1, 0],\n",
    "    'Gender': ['Male', 'Female', 'Female', 'Male', 'Female'],\n",
    "    'Marital_Status': ['Single', 'Married', 'Married', 'Single', 'Married'],\n",
    "    'Education': ['Graduate', 'Non-Graduate', 'Graduate', 'Non-Graduate', 'Graduate'],\n",
    "    'Loan_Status': [1, 0, 1, 0, 1]\n",
    "})\n",
    "X = data.drop('Loan_Status', axis=1) \n",
    "y = data['Loan_Status'] \n",
    "numerical_features = ['Income', 'Loan_Amount', 'Credit_History']\n",
    "categorical_features = ['Gender', 'Marital_Status', 'Education']\n",
    "numerical_transformer = Pipeline(steps=[\n",
    "    ('imputer', SimpleImputer(strategy='mean')),\n",
    "    ('scaler', StandardScaler())\n",
    "])\n",
    "categorical_transformer = Pipeline(steps=[\n",
    "    ('imputer', SimpleImputer(strategy='most_frequent')),\n",
    "    ('onehot', OneHotEncoder(handle_unknown='ignore'))\n",
    "])\n",
    "preprocessor = ColumnTransformer(\n",
    "    transformers=[\n",
    "        ('num', numerical_transformer, numerical_features),\n",
    "        ('cat', categorical_transformer, categorical_features)\n",
    "    ]\n",
    ")\n",
    "model = Pipeline(steps=[\n",
    "    ('preprocessor', preprocessor),\n",
    "    ('classifier', RandomForestClassifier())\n",
    "])\n",
    "X_train, X_test, y_train, y_test = train_test_split(X, y, test_size=0.3, random_state=42)\n",
    "model.fit(X_train, y_train)\n",
    "accuracy = model.score(X_test, y_test)\n",
    "print(f\"Model accuracy: {accuracy}\")\n",
    "user_data = input_data()\n",
    "prediction = model.predict(user_data)\n",
    "print(\"Loan Approval Prediction (1: Approved, 0: Rejected):\", prediction)\n"
   ]
  },
  {
   "cell_type": "code",
   "execution_count": null,
   "id": "4d37a39b-7722-47af-8723-40b12896db5f",
   "metadata": {},
   "outputs": [],
   "source": []
  }
 ],
 "metadata": {
  "kernelspec": {
   "display_name": "Python 3 (ipykernel)",
   "language": "python",
   "name": "python3"
  },
  "language_info": {
   "codemirror_mode": {
    "name": "ipython",
    "version": 3
   },
   "file_extension": ".py",
   "mimetype": "text/x-python",
   "name": "python",
   "nbconvert_exporter": "python",
   "pygments_lexer": "ipython3",
   "version": "3.12.7"
  }
 },
 "nbformat": 4,
 "nbformat_minor": 5
}
